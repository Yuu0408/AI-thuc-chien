{
 "cells": [
  {
   "cell_type": "code",
   "execution_count": 2,
   "id": "776b0d4e",
   "metadata": {},
   "outputs": [],
   "source": [
    "import requests\n",
    "import json\n",
    "import base64\n",
    "\n",
    "AI_API_BASE = \"https://api.thucchien.ai\"\n",
    "AI_API_KEY = \"sk-bN54VOyPuJFk2S4YhAHH8Q\""
   ]
  },
  {
   "cell_type": "code",
   "execution_count": 9,
   "id": "ab9e72ec",
   "metadata": {},
   "outputs": [],
   "source": [
    "import json\n",
    "\n",
    "with open(\"prompts.json\", \"r\", encoding=\"utf-8\") as f:\n",
    "    data = json.load(f)\n",
    "\n",
    "GENERATION_PROMPT = data[\"generation_prompt\"]\n",
    "IDEA_PROMPT = data[\"idea_prompt\"]\n",
    "CODE_SPECIALIST_PROMPT = data[\"code_specialist\"]"
   ]
  },
  {
   "cell_type": "code",
   "execution_count": 3,
   "id": "d3c34cfd",
   "metadata": {},
   "outputs": [],
   "source": [
    "def get_key_info():\n",
    "    url = \"https://api.thucchien.ai/key/info\"\n",
    "\n",
    "    headers = {\n",
    "    \"accept\": \"application/json\",\n",
    "    \"Authorization\": f\"Bearer {AI_API_KEY}\"\n",
    "    }\n",
    "\n",
    "    response = requests.get(url, headers=headers)\n",
    "\n",
    "    if response.status_code == 200:\n",
    "        key_info = response.json()\n",
    "        info = key_info['info']\n",
    "        #   print(\"Key Alias:\", info['key_alias'])\n",
    "        print(\"Spent: $\" + str(info['spend']) + \" / $\" + str(info['max_budget'] if 'max_budget' in info else 'Unlimited'))\n",
    "        #   print(\"Max Budget:\", info.get('max_budget', 'Unlimited'))\n",
    "        #   print(\"Models:\", info['models'])\n",
    "        #   print(\"Created:\", info['created_at'])\n",
    "    else:\n",
    "        print(\"Error:\", response.status_code)\n",
    "        print(response.text)"
   ]
  },
  {
   "cell_type": "code",
   "execution_count": 14,
   "id": "741d03ba",
   "metadata": {},
   "outputs": [
    {
     "name": "stdout",
     "output_type": "stream",
     "text": [
      "Spent: $5.74427505 / $50.0\n"
     ]
    }
   ],
   "source": [
    "get_key_info()"
   ]
  },
  {
   "cell_type": "code",
   "execution_count": 5,
   "id": "1a7df5dd",
   "metadata": {},
   "outputs": [],
   "source": [
    "\n",
    "import base64\n",
    "import os\n",
    "import wave\n",
    "import struct\n",
    "\n",
    "def generate_image(prompt, n_images=1, out_dir=\"generated_images\", aspect_ratio=\"1:1\"):\n",
    "  # --- Gọi API để tạo hình ảnh ---\n",
    "  url = f\"{AI_API_BASE}/images/generations\"\n",
    "  headers = {\n",
    "    \"Content-Type\": \"application/json\",\n",
    "    \"Authorization\": f\"Bearer {AI_API_KEY}\"\n",
    "  }\n",
    "  data = {\n",
    "    \"model\": \"imagen-4\",\n",
    "    \"prompt\": prompt,\n",
    "    \"n\": n_images, # Yêu cầu 2 ảnh\n",
    "    \"aspect_ratio\": aspect_ratio\n",
    "  }\n",
    "\n",
    "  try:\n",
    "    response = requests.post(url, headers=headers, data=json.dumps(data))\n",
    "    response.raise_for_status()\n",
    "\n",
    "    get_key_info()\n",
    "\n",
    "    result = response.json()\n",
    "    \n",
    "    # --- Xử lý và lưu từng ảnh ---\n",
    "    for i, image_obj in enumerate(result['data']):\n",
    "        b64_data = image_obj['b64_json']\n",
    "        image_data = base64.b64decode(b64_data)\n",
    "        \n",
    "        save_path = f\"{out_dir}_{i+1}.png\"\n",
    "        with open(save_path, 'wb') as f:\n",
    "            f.write(image_data)\n",
    "        print(f\"Image saved to {save_path}\")\n",
    "\n",
    "  except requests.exceptions.RequestException as e:\n",
    "    print(f\"An error occurred: {e}\")\n",
    "    print(f\"Response body: {response.text if 'response' in locals() else 'No response'}\")"
   ]
  },
  {
   "cell_type": "code",
   "execution_count": 6,
   "id": "11582a21",
   "metadata": {},
   "outputs": [],
   "source": [
    "# Add masked image\n",
    "def edit_image(prompt, image_path, aspect_ratio=\"1:1\", out_path=\"edited_image.png\"):\n",
    "    \"\"\"\n",
    "    Edit an existing image using ThucChien.ai Gemini API (v1beta).\n",
    "    \n",
    "    Args:\n",
    "        prompt (str): Edit instruction (e.g., \"Remove all text from the image\").\n",
    "        image_path (str): Path to the original image.\n",
    "        api_key (str): Your ThucChien.ai API key.\n",
    "        aspect_ratio (str): Target aspect ratio, e.g. \"1:1\", \"9:16\".\n",
    "        out_path (str): Path to save the edited image.\n",
    "    \"\"\"\n",
    "\n",
    "    # --- Read and encode the original image ---\n",
    "    with open(image_path, \"rb\") as f:\n",
    "        image_bytes = f.read()\n",
    "    image_b64 = base64.b64encode(image_bytes).decode(\"utf-8\")\n",
    "\n",
    "    # --- API request setup ---\n",
    "    url = \"https://api.thucchien.ai/gemini/v1beta/models/gemini-2.5-flash-image-preview:generateContent\"\n",
    "    headers = {\n",
    "        \"x-goog-api-key\": AI_API_KEY,\n",
    "        \"Content-Type\": \"application/json\"\n",
    "    }\n",
    "\n",
    "    # --- Payload structure for image editing ---\n",
    "    payload = {\n",
    "        \"contents\": [\n",
    "            {\n",
    "                \"parts\": [\n",
    "                    {\"text\": prompt},\n",
    "                    {\n",
    "                        \"inline_data\": {\n",
    "                            \"mime_type\": \"image/png\",\n",
    "                            \"data\": image_b64\n",
    "                        }\n",
    "                    }\n",
    "                ]\n",
    "            }\n",
    "        ],\n",
    "        \"generationConfig\": {\n",
    "            \"imageConfig\": {\n",
    "                \"aspectRatio\": aspect_ratio\n",
    "            }\n",
    "        }\n",
    "    }\n",
    "\n",
    "    # --- Send request ---\n",
    "    response = requests.post(url, headers=headers, data=json.dumps(payload))\n",
    "    get_key_info()\n",
    "    try:\n",
    "        response.raise_for_status()\n",
    "    except requests.exceptions.RequestException as e:\n",
    "        print(f\"❌ Request failed: {e}\")\n",
    "        print(f\"Response: {response.text}\")\n",
    "        return None\n",
    "\n",
    "    result = response.json()\n",
    "\n",
    "    # --- Extract base64 image from response ---\n",
    "    try:\n",
    "        img_b64 = result[\"candidates\"][0][\"content\"][\"parts\"][1][\"inlineData\"][\"data\"]\n",
    "        # img_b64 = result[\"candidates\"][0][\"content\"][\"parts\"]\n",
    "        # return img_b64\n",
    "    except KeyError:\n",
    "        print(img_b64)\n",
    "        print(\"⚠️ Could not find image data in response.\")\n",
    "        print(json.dumps(result, indent=2))\n",
    "        return None\n",
    "\n",
    "    img_bytes = base64.b64decode(img_b64)\n",
    "\n",
    "    # --- Save edited image ---\n",
    "    os.makedirs(os.path.dirname(out_path) or \".\", exist_ok=True)\n",
    "    with open(out_path, \"wb\") as f:\n",
    "        f.write(img_bytes)\n",
    "\n",
    "    print(f\"✅ Edited image saved to {out_path}\")\n",
    "    return out_path"
   ]
  },
  {
   "cell_type": "code",
   "execution_count": 10,
   "id": "22303824",
   "metadata": {},
   "outputs": [
    {
     "name": "stdout",
     "output_type": "stream",
     "text": [
      "Spent: $0.263287175 / $50.0\n",
      "✅ Edited image saved to edited_website.png\n"
     ]
    },
    {
     "data": {
      "text/plain": [
       "'edited_website.png'"
      ]
     },
     "execution_count": 10,
     "metadata": {},
     "output_type": "execute_result"
    }
   ],
   "source": [
    "edit_image(prompt=\"Help me generate image about a website UI based on the following based website design. The website is an information website about a famous attraction\", image_path=\"raw.png\", aspect_ratio=\"16:9\", out_path=\"edited_website.png\")"
   ]
  },
  {
   "cell_type": "code",
   "execution_count": 11,
   "id": "4300379d",
   "metadata": {},
   "outputs": [
    {
     "name": "stdout",
     "output_type": "stream",
     "text": [
      "Spent: $0.3971203 / $50.0\n",
      "✅ Edited image saved to edited_website.png\n"
     ]
    },
    {
     "data": {
      "text/plain": [
       "'edited_website.png'"
      ]
     },
     "execution_count": 11,
     "metadata": {},
     "output_type": "execute_result"
    }
   ],
   "source": [
    "edit_image(prompt=\"Help me generate image about a website UI based on the following based website design. The website is an information website about a famous attraction, which is Bản Yên Hoà, Xã Mỹ Lý, Tỉnh Nghệ An. This place has the following characteristic: Tháp cổ linh thiêng, Món ăn hấp dẫn, Múa xòe dân tộc Thái, Làng nghề dệt thổ cẩm, Món ăn đặc sản người Thái: cơm lam, cá nướng, gà nướng, xôi nếp cẩm, Du thuyền trên sông Nậm, Cầu treo yên hòa: cầu treo dân sinh dài nhất huyện kỳ sơn, Tháp cổ Yên Hòa: Tháp Xốp lợt\", image_path=\"raw.png\", aspect_ratio=\"16:9\", out_path=\"edited_website.png\")"
   ]
  },
  {
   "cell_type": "code",
   "execution_count": 21,
   "id": "981ca5ee",
   "metadata": {},
   "outputs": [
    {
     "name": "stdout",
     "output_type": "stream",
     "text": [
      "Spent: $17.94245286250001 / $50.0\n"
     ]
    }
   ],
   "source": [
    "get_key_info()"
   ]
  },
  {
   "cell_type": "code",
   "execution_count": null,
   "id": "2cd73505",
   "metadata": {},
   "outputs": [],
   "source": []
  }
 ],
 "metadata": {
  "kernelspec": {
   "display_name": "Python 3",
   "language": "python",
   "name": "python3"
  },
  "language_info": {
   "codemirror_mode": {
    "name": "ipython",
    "version": 3
   },
   "file_extension": ".py",
   "mimetype": "text/x-python",
   "name": "python",
   "nbconvert_exporter": "python",
   "pygments_lexer": "ipython3",
   "version": "3.12.10"
  }
 },
 "nbformat": 4,
 "nbformat_minor": 5
}
